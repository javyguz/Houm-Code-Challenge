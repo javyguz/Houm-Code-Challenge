{
 "cells": [
  {
   "cell_type": "markdown",
   "id": "1322c397-ee2d-43ca-aea5-e33b32123860",
   "metadata": {},
   "source": [
    "# Houm Data Engineer Challenge  Javier Urrecha"
   ]
  },
  {
   "cell_type": "markdown",
   "id": "022d4182-5bc9-4bc0-a9ec-bd2e8dd62508",
   "metadata": {},
   "source": [
    "## Introducción\n",
    "\n",
    "\n",
    "Houm es una startup que permite administrar, arrendar y vender propiedades rápido, seguro y fácil a miles de usuarios en Latinoamérica. En su desafío por entregar la mejor experiencia de usuarios, la empresa y su head de operaciones le pide hacer un estudio sobre el comportamiento de sus visitas en torno al clima. Es por esto que lo contactan a usted para dar respuestas a las preguntas de la compañía.\n",
    "\n",
    "\n",
    "\n",
    "\tCarlos, nuestro data scientist, le informa que existen tres fuentes de información relevantes, las cuales contienen información de la operación que podrían ser de utilidad. Los tres archivos se detallan a continuación (presentes en el archivo dataset.zip adjunto):\n"
   ]
  },
  {
   "cell_type": "markdown",
   "id": "1706a300-d33b-4a2a-9448-94d8788be6b8",
   "metadata": {
    "tags": []
   },
   "source": [
    "<li><b>properties.csv:</b> Contiene información básica de las características de la propiedad y su información geográfica. Las columnas de este archivo son las siguientes: property_id, business_type, type, bedrooms, bathrooms, latitude, longitude, locality, city & country.</li>\n",
    "\n",
    "<li><b>users.csv:</b> Contiene la información de los propietarios y su relación con la propiedad. Las columnas de este archivo son las siguientes: property_id, user_id, name, last_name & country.</li>\n",
    "\n",
    "<li><b>visits.csv:</b>\n",
    "Contiene la información de los clientes que se han registrado en alguna visita a una propiedad. Las columnas de este archivo son las siguientes: schedule_id, property_id, begin_date, end_date, type_visit & status. Este ultimo campo, puede tomar valor según el estado de la visita y permite verificar si las visitas están agendadas y aún no se realizan (scheduled), canceladas (cancelled) o ya realizadas (Done).</li>\n",
    "\n",
    "\tPor otro lado, Carlos le comenta que existe un servicio para obtener información de las condiciones climáticas de cada país. Se puede consultar este servicio por medio de su API, la cual esta documentada aquí. Se puede consultar la temperatura y clima de una localidad mediante la siguiente consulta. \n",
    "<b>Ejemplo de Request API Wheather VisualCrossing:</b>\n",
    "\n",
    "﻿ https://weather.visualcrossing.com/VisualCrossingWebServices/rest/services/timeline/{lat},{lng}/{start_date}/{end_date}?key={API_KEY}&include=days\n",
    "\n",
    "<b>Posibles condiciones climáticas retornada por la API:</b>\n",
    "\n",
    "https://github.com/visualcrossing/WeatherApi/blob/master/lang/en.txt\n",
    "\n",
    "<b>Nota:</b> Para la utilización de la api se debe proveer el siguiente API KEY. Esta tiene un límite de 1.000 registros al día. Debes registrarte en https://www.visualcrossing.com/sign-up para obtener la KEY.\n",
    "\n",
    "Preguntas del desafío:\n",
    "\n",
    "<li>¿Cuántas visitas se realizaron en total?</li>\n",
    "<li>¿Cuál es el promedio de propiedades por propietario?</li>\n",
    "<li>¿Cuál era la temperatura promedio de todas las visitas que realizó en la propiedad del propietario con ID 2?</li>\n",
    "<li>¿Cuál es la temperatura promedio de las visitas para los días con lluvia?</li>\n",
    "<li>¿Cuál es la temperatura promedio para las visitas realizadas en la localidad de Suba?</li>\n",
    "\n",
    "\n",
    "\tFormato de entrega:\n",
    "\n",
    "Para entregar este desafío te solicitamos compartirnos un link de un repositorio en github o gitlab. Este repositorio debe contener un archivo en formato ipynb o py con las respuestas. Debes entregar un archivo requierements.txt con las versiones de las librerías ocupadas."
   ]
  },
  {
   "cell_type": "code",
   "execution_count": 1,
   "id": "3f0d0d1c-f2f9-4f55-8242-7fc0ef410d03",
   "metadata": {},
   "outputs": [],
   "source": [
    "# Libraries\n",
    "import numpy as np\n",
    "import pandas as pd\n",
    "import requests\n",
    "import datetime"
   ]
  },
  {
   "cell_type": "markdown",
   "id": "af1d1f34-b940-4e79-8bc4-28dda55e7500",
   "metadata": {
    "tags": []
   },
   "source": [
    "## 1. Analisis exploratorio de los datos"
   ]
  },
  {
   "cell_type": "code",
   "execution_count": 2,
   "id": "7f7660c0-f9c4-457f-825e-d768700dd102",
   "metadata": {},
   "outputs": [],
   "source": [
    "# Transformamos los archivos de csv en dataframe\n",
    "properties = pd.read_csv(\"properties.csv\")\n",
    "users = pd.read_csv(\"users.csv\")\n",
    "visits = pd.read_csv(\"visits.csv\")"
   ]
  },
  {
   "cell_type": "markdown",
   "id": "1442a15a-2595-4d1e-a2d3-11babce5649f",
   "metadata": {
    "tags": []
   },
   "source": [
    "## 1.1 Propiedades: "
   ]
  },
  {
   "cell_type": "code",
   "execution_count": 25,
   "id": "98018a8e-8060-4561-a2b9-735d8cb85b6a",
   "metadata": {},
   "outputs": [
    {
     "name": "stdout",
     "output_type": "stream",
     "text": [
      "Shape:  (80, 15)\n"
     ]
    },
    {
     "data": {
      "text/html": [
       "<div>\n",
       "<style scoped>\n",
       "    .dataframe tbody tr th:only-of-type {\n",
       "        vertical-align: middle;\n",
       "    }\n",
       "\n",
       "    .dataframe tbody tr th {\n",
       "        vertical-align: top;\n",
       "    }\n",
       "\n",
       "    .dataframe thead th {\n",
       "        text-align: right;\n",
       "    }\n",
       "</style>\n",
       "<table border=\"1\" class=\"dataframe\">\n",
       "  <thead>\n",
       "    <tr style=\"text-align: right;\">\n",
       "      <th></th>\n",
       "      <th>property_id</th>\n",
       "      <th>type_house</th>\n",
       "      <th>business_type</th>\n",
       "      <th>bedrooms</th>\n",
       "      <th>bathrooms</th>\n",
       "      <th>parking_lots</th>\n",
       "      <th>services</th>\n",
       "      <th>balcony</th>\n",
       "      <th>pool</th>\n",
       "      <th>latitude</th>\n",
       "      <th>longitude</th>\n",
       "      <th>localidad</th>\n",
       "      <th>city</th>\n",
       "      <th>region</th>\n",
       "      <th>country</th>\n",
       "    </tr>\n",
       "  </thead>\n",
       "  <tbody>\n",
       "    <tr>\n",
       "      <th>0</th>\n",
       "      <td>1</td>\n",
       "      <td>departamento</td>\n",
       "      <td>Rental</td>\n",
       "      <td>1</td>\n",
       "      <td>1</td>\n",
       "      <td>1</td>\n",
       "      <td>3.0</td>\n",
       "      <td>0</td>\n",
       "      <td>False</td>\n",
       "      <td>4.870956</td>\n",
       "      <td>-74.058040</td>\n",
       "      <td>Chí­A</td>\n",
       "      <td>Cundinamarca</td>\n",
       "      <td>Región De Cundinamarca</td>\n",
       "      <td>Colombia</td>\n",
       "    </tr>\n",
       "    <tr>\n",
       "      <th>1</th>\n",
       "      <td>2</td>\n",
       "      <td>departamento</td>\n",
       "      <td>Rental &amp; Sale</td>\n",
       "      <td>1</td>\n",
       "      <td>1</td>\n",
       "      <td>2</td>\n",
       "      <td>NaN</td>\n",
       "      <td>1</td>\n",
       "      <td>False</td>\n",
       "      <td>4.623068</td>\n",
       "      <td>-74.074030</td>\n",
       "      <td>Teusaquillo</td>\n",
       "      <td>Bogotá</td>\n",
       "      <td>Región De Cundinamarca</td>\n",
       "      <td>Colombia</td>\n",
       "    </tr>\n",
       "    <tr>\n",
       "      <th>2</th>\n",
       "      <td>3</td>\n",
       "      <td>departamento</td>\n",
       "      <td>Rental</td>\n",
       "      <td>2</td>\n",
       "      <td>2</td>\n",
       "      <td>2</td>\n",
       "      <td>NaN</td>\n",
       "      <td>0</td>\n",
       "      <td>False</td>\n",
       "      <td>4.723909</td>\n",
       "      <td>-74.042336</td>\n",
       "      <td>Usaquen</td>\n",
       "      <td>Bogotá</td>\n",
       "      <td>Región De Cundinamarca</td>\n",
       "      <td>Colombia</td>\n",
       "    </tr>\n",
       "    <tr>\n",
       "      <th>3</th>\n",
       "      <td>4</td>\n",
       "      <td>departamento</td>\n",
       "      <td>Rental &amp; Sale</td>\n",
       "      <td>3</td>\n",
       "      <td>2</td>\n",
       "      <td>1</td>\n",
       "      <td>0.0</td>\n",
       "      <td>0</td>\n",
       "      <td>False</td>\n",
       "      <td>4.721716</td>\n",
       "      <td>-74.057976</td>\n",
       "      <td>Suba</td>\n",
       "      <td>Bogotá</td>\n",
       "      <td>Región De Cundinamarca</td>\n",
       "      <td>Colombia</td>\n",
       "    </tr>\n",
       "    <tr>\n",
       "      <th>4</th>\n",
       "      <td>5</td>\n",
       "      <td>departamento</td>\n",
       "      <td>Rental &amp; Sale</td>\n",
       "      <td>2</td>\n",
       "      <td>3</td>\n",
       "      <td>2</td>\n",
       "      <td>0.0</td>\n",
       "      <td>1</td>\n",
       "      <td>False</td>\n",
       "      <td>4.688163</td>\n",
       "      <td>-74.043300</td>\n",
       "      <td>Usaquen</td>\n",
       "      <td>Bogotá</td>\n",
       "      <td>Región De Cundinamarca</td>\n",
       "      <td>Colombia</td>\n",
       "    </tr>\n",
       "  </tbody>\n",
       "</table>\n",
       "</div>"
      ],
      "text/plain": [
       "   property_id    type_house  business_type  bedrooms  bathrooms  \\\n",
       "0            1  departamento         Rental         1          1   \n",
       "1            2  departamento  Rental & Sale         1          1   \n",
       "2            3  departamento         Rental         2          2   \n",
       "3            4  departamento  Rental & Sale         3          2   \n",
       "4            5  departamento  Rental & Sale         2          3   \n",
       "\n",
       "   parking_lots  services  balcony   pool  latitude  longitude    localidad  \\\n",
       "0             1       3.0        0  False  4.870956 -74.058040        Chí­A   \n",
       "1             2       NaN        1  False  4.623068 -74.074030  Teusaquillo   \n",
       "2             2       NaN        0  False  4.723909 -74.042336      Usaquen   \n",
       "3             1       0.0        0  False  4.721716 -74.057976         Suba   \n",
       "4             2       0.0        1  False  4.688163 -74.043300      Usaquen   \n",
       "\n",
       "           city                  region   country  \n",
       "0  Cundinamarca  Región De Cundinamarca  Colombia  \n",
       "1        Bogotá  Región De Cundinamarca  Colombia  \n",
       "2        Bogotá  Región De Cundinamarca  Colombia  \n",
       "3        Bogotá  Región De Cundinamarca  Colombia  \n",
       "4        Bogotá  Región De Cundinamarca  Colombia  "
      ]
     },
     "execution_count": 25,
     "metadata": {},
     "output_type": "execute_result"
    }
   ],
   "source": [
    "# Obtener el tamaño de los datos\n",
    "print(\"Shape: \",properties.shape)\n",
    "\n",
    "# Vistazo inicial de los datos\n",
    "properties.head()"
   ]
  },
  {
   "cell_type": "code",
   "execution_count": 31,
   "id": "90f269f7-fad1-468f-a2c6-bd1f383ac18b",
   "metadata": {},
   "outputs": [
    {
     "name": "stdout",
     "output_type": "stream",
     "text": [
      "<class 'pandas.core.frame.DataFrame'>\n",
      "RangeIndex: 80 entries, 0 to 79\n",
      "Data columns (total 15 columns):\n",
      " #   Column         Non-Null Count  Dtype  \n",
      "---  ------         --------------  -----  \n",
      " 0   property_id    80 non-null     int64  \n",
      " 1   type_house     80 non-null     object \n",
      " 2   business_type  80 non-null     object \n",
      " 3   bedrooms       80 non-null     int64  \n",
      " 4   bathrooms      80 non-null     int64  \n",
      " 5   parking_lots   80 non-null     int64  \n",
      " 6   services       19 non-null     float64\n",
      " 7   balcony        80 non-null     int64  \n",
      " 8   pool           80 non-null     bool   \n",
      " 9   latitude       80 non-null     float64\n",
      " 10  longitude      80 non-null     float64\n",
      " 11  localidad      80 non-null     object \n",
      " 12  city           80 non-null     object \n",
      " 13  region         80 non-null     object \n",
      " 14  country        80 non-null     object \n",
      "dtypes: bool(1), float64(3), int64(5), object(6)\n",
      "memory usage: 9.0+ KB\n"
     ]
    }
   ],
   "source": [
    "# Revisamos el typo de los datos para ver si necesitamos hacer transformaciones y ver donde puede haber valores nulos\n",
    "properties.info()"
   ]
  },
  {
   "cell_type": "code",
   "execution_count": 34,
   "id": "2dce084b-ae4e-4381-9adb-90b433ac4e57",
   "metadata": {},
   "outputs": [
    {
     "data": {
      "text/html": [
       "<div>\n",
       "<style scoped>\n",
       "    .dataframe tbody tr th:only-of-type {\n",
       "        vertical-align: middle;\n",
       "    }\n",
       "\n",
       "    .dataframe tbody tr th {\n",
       "        vertical-align: top;\n",
       "    }\n",
       "\n",
       "    .dataframe thead th {\n",
       "        text-align: right;\n",
       "    }\n",
       "</style>\n",
       "<table border=\"1\" class=\"dataframe\">\n",
       "  <thead>\n",
       "    <tr style=\"text-align: right;\">\n",
       "      <th></th>\n",
       "      <th>property_id</th>\n",
       "      <th>bedrooms</th>\n",
       "      <th>bathrooms</th>\n",
       "      <th>parking_lots</th>\n",
       "      <th>services</th>\n",
       "      <th>balcony</th>\n",
       "      <th>latitude</th>\n",
       "      <th>longitude</th>\n",
       "    </tr>\n",
       "  </thead>\n",
       "  <tbody>\n",
       "    <tr>\n",
       "      <th>count</th>\n",
       "      <td>80.0000</td>\n",
       "      <td>80.000000</td>\n",
       "      <td>80.000000</td>\n",
       "      <td>80.000000</td>\n",
       "      <td>19.000000</td>\n",
       "      <td>80.000000</td>\n",
       "      <td>80.000000</td>\n",
       "      <td>80.000000</td>\n",
       "    </tr>\n",
       "    <tr>\n",
       "      <th>mean</th>\n",
       "      <td>40.5000</td>\n",
       "      <td>2.275000</td>\n",
       "      <td>1.725000</td>\n",
       "      <td>0.650000</td>\n",
       "      <td>5264.526316</td>\n",
       "      <td>0.137500</td>\n",
       "      <td>4.685079</td>\n",
       "      <td>-74.116246</td>\n",
       "    </tr>\n",
       "    <tr>\n",
       "      <th>std</th>\n",
       "      <td>23.2379</td>\n",
       "      <td>0.871126</td>\n",
       "      <td>0.655551</td>\n",
       "      <td>0.713345</td>\n",
       "      <td>22941.242048</td>\n",
       "      <td>0.346547</td>\n",
       "      <td>0.062736</td>\n",
       "      <td>0.062496</td>\n",
       "    </tr>\n",
       "    <tr>\n",
       "      <th>min</th>\n",
       "      <td>1.0000</td>\n",
       "      <td>1.000000</td>\n",
       "      <td>1.000000</td>\n",
       "      <td>0.000000</td>\n",
       "      <td>0.000000</td>\n",
       "      <td>0.000000</td>\n",
       "      <td>4.586188</td>\n",
       "      <td>-74.245544</td>\n",
       "    </tr>\n",
       "    <tr>\n",
       "      <th>25%</th>\n",
       "      <td>20.7500</td>\n",
       "      <td>2.000000</td>\n",
       "      <td>1.000000</td>\n",
       "      <td>0.000000</td>\n",
       "      <td>0.000000</td>\n",
       "      <td>0.000000</td>\n",
       "      <td>4.644076</td>\n",
       "      <td>-74.158101</td>\n",
       "    </tr>\n",
       "    <tr>\n",
       "      <th>50%</th>\n",
       "      <td>40.5000</td>\n",
       "      <td>2.000000</td>\n",
       "      <td>2.000000</td>\n",
       "      <td>1.000000</td>\n",
       "      <td>1.000000</td>\n",
       "      <td>0.000000</td>\n",
       "      <td>4.685236</td>\n",
       "      <td>-74.111243</td>\n",
       "    </tr>\n",
       "    <tr>\n",
       "      <th>75%</th>\n",
       "      <td>60.2500</td>\n",
       "      <td>3.000000</td>\n",
       "      <td>2.000000</td>\n",
       "      <td>1.000000</td>\n",
       "      <td>3.000000</td>\n",
       "      <td>0.000000</td>\n",
       "      <td>4.722041</td>\n",
       "      <td>-74.057694</td>\n",
       "    </tr>\n",
       "    <tr>\n",
       "      <th>max</th>\n",
       "      <td>80.0000</td>\n",
       "      <td>5.000000</td>\n",
       "      <td>4.000000</td>\n",
       "      <td>2.000000</td>\n",
       "      <td>100000.000000</td>\n",
       "      <td>1.000000</td>\n",
       "      <td>4.926684</td>\n",
       "      <td>-74.023470</td>\n",
       "    </tr>\n",
       "  </tbody>\n",
       "</table>\n",
       "</div>"
      ],
      "text/plain": [
       "       property_id   bedrooms  bathrooms  parking_lots       services  \\\n",
       "count      80.0000  80.000000  80.000000     80.000000      19.000000   \n",
       "mean       40.5000   2.275000   1.725000      0.650000    5264.526316   \n",
       "std        23.2379   0.871126   0.655551      0.713345   22941.242048   \n",
       "min         1.0000   1.000000   1.000000      0.000000       0.000000   \n",
       "25%        20.7500   2.000000   1.000000      0.000000       0.000000   \n",
       "50%        40.5000   2.000000   2.000000      1.000000       1.000000   \n",
       "75%        60.2500   3.000000   2.000000      1.000000       3.000000   \n",
       "max        80.0000   5.000000   4.000000      2.000000  100000.000000   \n",
       "\n",
       "         balcony   latitude  longitude  \n",
       "count  80.000000  80.000000  80.000000  \n",
       "mean    0.137500   4.685079 -74.116246  \n",
       "std     0.346547   0.062736   0.062496  \n",
       "min     0.000000   4.586188 -74.245544  \n",
       "25%     0.000000   4.644076 -74.158101  \n",
       "50%     0.000000   4.685236 -74.111243  \n",
       "75%     0.000000   4.722041 -74.057694  \n",
       "max     1.000000   4.926684 -74.023470  "
      ]
     },
     "execution_count": 34,
     "metadata": {},
     "output_type": "execute_result"
    }
   ],
   "source": [
    "# Con el método de decribe entendemos si hay outliers y dónde se concentran los datos\n",
    "properties.describe()"
   ]
  },
  {
   "cell_type": "markdown",
   "id": "29ebbc23-7f6c-4ea0-8a25-5537e7eb6814",
   "metadata": {},
   "source": [
    "<b>Notas:</b>\n",
    "<li>Los datos de servicios destacan inmediatamente donde el máximo es de 100000 pero el promedio esta cerca de 0, es interesante por que es la columna\n",
    "con más datos nulos (61). Para este ejercicio no nos preocuparemos por esta columna pero deberíamos entender más acerca de por qué sus datos no son íntegros.</li>\n",
    "<li>Son pocos datos por lo que podemos inferir que los resultados numéricos no deberían ser muy elevados</li>\n",
    "<li>Tenemos 80 propiedades con 15 características.</li>"
   ]
  },
  {
   "cell_type": "markdown",
   "id": "47281645-fb74-4cc3-9dc1-ab6d6a3d4d25",
   "metadata": {
    "tags": []
   },
   "source": [
    "## 1.2 Usuarios"
   ]
  },
  {
   "cell_type": "markdown",
   "id": "59a44f24-21d0-4bf1-930f-f3506f8922b5",
   "metadata": {},
   "source": [
    "Analizaremos la tabla de usuarios para comprobar que coincide con los datos de propiedades repitiendo el proceso de analisis."
   ]
  },
  {
   "cell_type": "code",
   "execution_count": 49,
   "id": "93d8292c-ee75-4b31-848b-642dbdba5afb",
   "metadata": {},
   "outputs": [
    {
     "name": "stdout",
     "output_type": "stream",
     "text": [
      "Shape:  (80, 5)\n"
     ]
    },
    {
     "data": {
      "text/html": [
       "<div>\n",
       "<style scoped>\n",
       "    .dataframe tbody tr th:only-of-type {\n",
       "        vertical-align: middle;\n",
       "    }\n",
       "\n",
       "    .dataframe tbody tr th {\n",
       "        vertical-align: top;\n",
       "    }\n",
       "\n",
       "    .dataframe thead th {\n",
       "        text-align: right;\n",
       "    }\n",
       "</style>\n",
       "<table border=\"1\" class=\"dataframe\">\n",
       "  <thead>\n",
       "    <tr style=\"text-align: right;\">\n",
       "      <th></th>\n",
       "      <th>property_id</th>\n",
       "      <th>user_id</th>\n",
       "      <th>first_name</th>\n",
       "      <th>last_name</th>\n",
       "      <th>address</th>\n",
       "    </tr>\n",
       "  </thead>\n",
       "  <tbody>\n",
       "    <tr>\n",
       "      <th>0</th>\n",
       "      <td>31</td>\n",
       "      <td>1</td>\n",
       "      <td>Josephine</td>\n",
       "      <td>Darakjy</td>\n",
       "      <td>4 B Blue Ridge Blvd</td>\n",
       "    </tr>\n",
       "    <tr>\n",
       "      <th>1</th>\n",
       "      <td>34</td>\n",
       "      <td>2</td>\n",
       "      <td>Art</td>\n",
       "      <td>Venere</td>\n",
       "      <td>8 W Cerritos Ave #54</td>\n",
       "    </tr>\n",
       "    <tr>\n",
       "      <th>2</th>\n",
       "      <td>48</td>\n",
       "      <td>3</td>\n",
       "      <td>Lenna</td>\n",
       "      <td>Paprocki</td>\n",
       "      <td>639 Main St</td>\n",
       "    </tr>\n",
       "    <tr>\n",
       "      <th>3</th>\n",
       "      <td>27</td>\n",
       "      <td>4</td>\n",
       "      <td>Donette</td>\n",
       "      <td>Foller</td>\n",
       "      <td>34 Center St</td>\n",
       "    </tr>\n",
       "    <tr>\n",
       "      <th>4</th>\n",
       "      <td>40</td>\n",
       "      <td>5</td>\n",
       "      <td>Simona</td>\n",
       "      <td>Morasca</td>\n",
       "      <td>3 Mcauley Dr</td>\n",
       "    </tr>\n",
       "  </tbody>\n",
       "</table>\n",
       "</div>"
      ],
      "text/plain": [
       "   property_id  user_id first_name last_name               address\n",
       "0           31        1  Josephine   Darakjy   4 B Blue Ridge Blvd\n",
       "1           34        2        Art    Venere  8 W Cerritos Ave #54\n",
       "2           48        3      Lenna  Paprocki           639 Main St\n",
       "3           27        4    Donette    Foller          34 Center St\n",
       "4           40        5     Simona   Morasca          3 Mcauley Dr"
      ]
     },
     "execution_count": 49,
     "metadata": {},
     "output_type": "execute_result"
    }
   ],
   "source": [
    "# Obtener el tamaño de los datos\n",
    "print(\"Shape: \",users.shape)\n",
    "\n",
    "# Vistazo inicial de los datos\n",
    "users.head()"
   ]
  },
  {
   "cell_type": "code",
   "execution_count": 43,
   "id": "a502f180-1694-41cf-b7fb-53aed4560658",
   "metadata": {},
   "outputs": [
    {
     "name": "stdout",
     "output_type": "stream",
     "text": [
      "<class 'pandas.core.frame.DataFrame'>\n",
      "RangeIndex: 80 entries, 0 to 79\n",
      "Data columns (total 5 columns):\n",
      " #   Column       Non-Null Count  Dtype \n",
      "---  ------       --------------  ----- \n",
      " 0   property_id  80 non-null     int64 \n",
      " 1   user_id      80 non-null     int64 \n",
      " 2   first_name   80 non-null     object\n",
      " 3   last_name    80 non-null     object\n",
      " 4   address      80 non-null     object\n",
      "dtypes: int64(2), object(3)\n",
      "memory usage: 3.2+ KB\n"
     ]
    }
   ],
   "source": [
    "# Revisamos el typo de los datos para ver si necesitamos hacer transformaciones y ver donde puede haber valores nulos\n",
    "users.info()"
   ]
  },
  {
   "cell_type": "code",
   "execution_count": 45,
   "id": "a38dfa1d-3a95-40a9-97a3-b7e3d52081a8",
   "metadata": {},
   "outputs": [
    {
     "data": {
      "text/html": [
       "<div>\n",
       "<style scoped>\n",
       "    .dataframe tbody tr th:only-of-type {\n",
       "        vertical-align: middle;\n",
       "    }\n",
       "\n",
       "    .dataframe tbody tr th {\n",
       "        vertical-align: top;\n",
       "    }\n",
       "\n",
       "    .dataframe thead th {\n",
       "        text-align: right;\n",
       "    }\n",
       "</style>\n",
       "<table border=\"1\" class=\"dataframe\">\n",
       "  <thead>\n",
       "    <tr style=\"text-align: right;\">\n",
       "      <th></th>\n",
       "      <th>property_id</th>\n",
       "      <th>user_id</th>\n",
       "    </tr>\n",
       "  </thead>\n",
       "  <tbody>\n",
       "    <tr>\n",
       "      <th>count</th>\n",
       "      <td>80.0000</td>\n",
       "      <td>80.0000</td>\n",
       "    </tr>\n",
       "    <tr>\n",
       "      <th>mean</th>\n",
       "      <td>40.5000</td>\n",
       "      <td>40.5000</td>\n",
       "    </tr>\n",
       "    <tr>\n",
       "      <th>std</th>\n",
       "      <td>23.2379</td>\n",
       "      <td>23.2379</td>\n",
       "    </tr>\n",
       "    <tr>\n",
       "      <th>min</th>\n",
       "      <td>1.0000</td>\n",
       "      <td>1.0000</td>\n",
       "    </tr>\n",
       "    <tr>\n",
       "      <th>25%</th>\n",
       "      <td>20.7500</td>\n",
       "      <td>20.7500</td>\n",
       "    </tr>\n",
       "    <tr>\n",
       "      <th>50%</th>\n",
       "      <td>40.5000</td>\n",
       "      <td>40.5000</td>\n",
       "    </tr>\n",
       "    <tr>\n",
       "      <th>75%</th>\n",
       "      <td>60.2500</td>\n",
       "      <td>60.2500</td>\n",
       "    </tr>\n",
       "    <tr>\n",
       "      <th>max</th>\n",
       "      <td>80.0000</td>\n",
       "      <td>80.0000</td>\n",
       "    </tr>\n",
       "  </tbody>\n",
       "</table>\n",
       "</div>"
      ],
      "text/plain": [
       "       property_id  user_id\n",
       "count      80.0000  80.0000\n",
       "mean       40.5000  40.5000\n",
       "std        23.2379  23.2379\n",
       "min         1.0000   1.0000\n",
       "25%        20.7500  20.7500\n",
       "50%        40.5000  40.5000\n",
       "75%        60.2500  60.2500\n",
       "max        80.0000  80.0000"
      ]
     },
     "execution_count": 45,
     "metadata": {},
     "output_type": "execute_result"
    }
   ],
   "source": [
    "# Con el método de decribe entendemos si hay outliers y dónde se concentran los datos\n",
    "users.describe()"
   ]
  },
  {
   "cell_type": "code",
   "execution_count": 47,
   "id": "dbfc4102-614d-4ac4-b2c6-b1477454eac2",
   "metadata": {},
   "outputs": [
    {
     "data": {
      "text/plain": [
       "31    1\n",
       "34    1\n",
       "56    1\n",
       "55    1\n",
       "54    1\n",
       "     ..\n",
       "8     1\n",
       "7     1\n",
       "6     1\n",
       "4     1\n",
       "80    1\n",
       "Name: property_id, Length: 80, dtype: int64"
      ]
     },
     "execution_count": 48,
     "metadata": {},
     "output_type": "execute_result"
    }
   ],
   "source": [
    "# Checaremos si hay más propiedades por usuario\n",
    "list(users.property_id.value_counts())"
   ]
  },
  {
   "cell_type": "markdown",
   "id": "0f7e7c80-ff06-40d4-90cf-62e4a5d6314f",
   "metadata": {},
   "source": [
    "<b>Notas:</b>\n",
    "<li>La longitud de los datos coincide con las de las propiedades, y cada una de estas pertenece a un usuario</li>\n",
    "<li>Los datos están limpios y no resaltan outliers.</li>"
   ]
  },
  {
   "cell_type": "markdown",
   "id": "841531aa-a3bd-4a92-a797-a6e1f73f8db3",
   "metadata": {
    "tags": []
   },
   "source": [
    "## 1.3 Visitas"
   ]
  },
  {
   "cell_type": "markdown",
   "id": "37f924dd-95c1-44a6-9d20-353f04750685",
   "metadata": {},
   "source": [
    "Repetimos el proceso con las visitas"
   ]
  },
  {
   "cell_type": "code",
   "execution_count": 50,
   "id": "9b9ef94d-ad6f-4788-bbe1-f0d5b9d97f40",
   "metadata": {},
   "outputs": [
    {
     "name": "stdout",
     "output_type": "stream",
     "text": [
      "Shape:  (425, 6)\n"
     ]
    },
    {
     "data": {
      "text/html": [
       "<div>\n",
       "<style scoped>\n",
       "    .dataframe tbody tr th:only-of-type {\n",
       "        vertical-align: middle;\n",
       "    }\n",
       "\n",
       "    .dataframe tbody tr th {\n",
       "        vertical-align: top;\n",
       "    }\n",
       "\n",
       "    .dataframe thead th {\n",
       "        text-align: right;\n",
       "    }\n",
       "</style>\n",
       "<table border=\"1\" class=\"dataframe\">\n",
       "  <thead>\n",
       "    <tr style=\"text-align: right;\">\n",
       "      <th></th>\n",
       "      <th>scheduled_id</th>\n",
       "      <th>property_id</th>\n",
       "      <th>begin_date</th>\n",
       "      <th>end_date</th>\n",
       "      <th>type_visit</th>\n",
       "      <th>status</th>\n",
       "    </tr>\n",
       "  </thead>\n",
       "  <tbody>\n",
       "    <tr>\n",
       "      <th>0</th>\n",
       "      <td>169548</td>\n",
       "      <td>1</td>\n",
       "      <td>2022-01-13T10:00:00-03:00</td>\n",
       "      <td>2022-01-13T12:00:00-03:00</td>\n",
       "      <td>Visit</td>\n",
       "      <td>Cancelled</td>\n",
       "    </tr>\n",
       "    <tr>\n",
       "      <th>1</th>\n",
       "      <td>184763</td>\n",
       "      <td>1</td>\n",
       "      <td>2022-01-26T18:00:00-03:00</td>\n",
       "      <td>2022-01-26T20:00:00-03:00</td>\n",
       "      <td>Visit</td>\n",
       "      <td>Cancelled</td>\n",
       "    </tr>\n",
       "    <tr>\n",
       "      <th>2</th>\n",
       "      <td>186092</td>\n",
       "      <td>1</td>\n",
       "      <td>2022-01-28T12:00:00-03:00</td>\n",
       "      <td>2022-01-28T14:00:00-03:00</td>\n",
       "      <td>Visit</td>\n",
       "      <td>Cancelled</td>\n",
       "    </tr>\n",
       "    <tr>\n",
       "      <th>3</th>\n",
       "      <td>182497</td>\n",
       "      <td>1</td>\n",
       "      <td>2022-01-23T11:00:00-03:00</td>\n",
       "      <td>2022-01-23T13:00:00-03:00</td>\n",
       "      <td>Visit</td>\n",
       "      <td>Cancelled</td>\n",
       "    </tr>\n",
       "    <tr>\n",
       "      <th>4</th>\n",
       "      <td>182396</td>\n",
       "      <td>1</td>\n",
       "      <td>2022-01-23T10:00:00-03:00</td>\n",
       "      <td>2022-01-23T12:00:00-03:00</td>\n",
       "      <td>Visit</td>\n",
       "      <td>Cancelled</td>\n",
       "    </tr>\n",
       "  </tbody>\n",
       "</table>\n",
       "</div>"
      ],
      "text/plain": [
       "   scheduled_id  property_id                 begin_date  \\\n",
       "0        169548            1  2022-01-13T10:00:00-03:00   \n",
       "1        184763            1  2022-01-26T18:00:00-03:00   \n",
       "2        186092            1  2022-01-28T12:00:00-03:00   \n",
       "3        182497            1  2022-01-23T11:00:00-03:00   \n",
       "4        182396            1  2022-01-23T10:00:00-03:00   \n",
       "\n",
       "                    end_date type_visit     status  \n",
       "0  2022-01-13T12:00:00-03:00      Visit  Cancelled  \n",
       "1  2022-01-26T20:00:00-03:00      Visit  Cancelled  \n",
       "2  2022-01-28T14:00:00-03:00      Visit  Cancelled  \n",
       "3  2022-01-23T13:00:00-03:00      Visit  Cancelled  \n",
       "4  2022-01-23T12:00:00-03:00      Visit  Cancelled  "
      ]
     },
     "execution_count": 50,
     "metadata": {},
     "output_type": "execute_result"
    }
   ],
   "source": [
    "# Obtener el tamaño de los datos\n",
    "print(\"Shape: \",visits.shape)\n",
    "\n",
    "# Vistazo inicial de los datos\n",
    "visits.head()"
   ]
  },
  {
   "cell_type": "code",
   "execution_count": 56,
   "id": "c131ba26-1192-45aa-ae61-bd4e31394dd4",
   "metadata": {},
   "outputs": [
    {
     "name": "stdout",
     "output_type": "stream",
     "text": [
      "<class 'pandas.core.frame.DataFrame'>\n",
      "RangeIndex: 425 entries, 0 to 424\n",
      "Data columns (total 6 columns):\n",
      " #   Column        Non-Null Count  Dtype \n",
      "---  ------        --------------  ----- \n",
      " 0   scheduled_id  425 non-null    int64 \n",
      " 1   property_id   425 non-null    int64 \n",
      " 2   begin_date    425 non-null    object\n",
      " 3   end_date      425 non-null    object\n",
      " 4   type_visit    425 non-null    object\n",
      " 5   status        425 non-null    object\n",
      "dtypes: int64(2), object(4)\n",
      "memory usage: 20.0+ KB\n"
     ]
    }
   ],
   "source": [
    "# Revisamos el typo de los datos para ver si necesitamos hacer transformaciones y ver donde puede haber valores nulos\n",
    "visits.info()"
   ]
  },
  {
   "cell_type": "code",
   "execution_count": 65,
   "id": "152141bd-61c3-4d09-9948-f74c9b89f8a3",
   "metadata": {},
   "outputs": [
    {
     "name": "stdout",
     "output_type": "stream",
     "text": [
      "Cancelled    286\n",
      "Done         139\n",
      "Name: status, dtype: int64\n",
      "Visit    425\n",
      "Name: type_visit, dtype: int64\n",
      "1\n"
     ]
    }
   ],
   "source": [
    "# Nos interesa saber los tipos de status y los tipos de visitas que existen\n",
    "print(visits.status.value_counts())\n",
    "print(visits.type_visit.value_counts())\n",
    "print(visits.type_visit.nunique())"
   ]
  },
  {
   "cell_type": "code",
   "execution_count": 58,
   "id": "df11ff20-5b25-4056-a6f1-731edb3bce15",
   "metadata": {},
   "outputs": [
    {
     "data": {
      "text/html": [
       "<div>\n",
       "<style scoped>\n",
       "    .dataframe tbody tr th:only-of-type {\n",
       "        vertical-align: middle;\n",
       "    }\n",
       "\n",
       "    .dataframe tbody tr th {\n",
       "        vertical-align: top;\n",
       "    }\n",
       "\n",
       "    .dataframe thead th {\n",
       "        text-align: right;\n",
       "    }\n",
       "</style>\n",
       "<table border=\"1\" class=\"dataframe\">\n",
       "  <thead>\n",
       "    <tr style=\"text-align: right;\">\n",
       "      <th></th>\n",
       "      <th>scheduled_id</th>\n",
       "      <th>property_id</th>\n",
       "    </tr>\n",
       "  </thead>\n",
       "  <tbody>\n",
       "    <tr>\n",
       "      <th>count</th>\n",
       "      <td>425.000000</td>\n",
       "      <td>425.000000</td>\n",
       "    </tr>\n",
       "    <tr>\n",
       "      <th>mean</th>\n",
       "      <td>188094.894118</td>\n",
       "      <td>40.087059</td>\n",
       "    </tr>\n",
       "    <tr>\n",
       "      <th>std</th>\n",
       "      <td>13820.402675</td>\n",
       "      <td>22.943521</td>\n",
       "    </tr>\n",
       "    <tr>\n",
       "      <th>min</th>\n",
       "      <td>160130.000000</td>\n",
       "      <td>1.000000</td>\n",
       "    </tr>\n",
       "    <tr>\n",
       "      <th>25%</th>\n",
       "      <td>176671.000000</td>\n",
       "      <td>21.000000</td>\n",
       "    </tr>\n",
       "    <tr>\n",
       "      <th>50%</th>\n",
       "      <td>190273.000000</td>\n",
       "      <td>38.000000</td>\n",
       "    </tr>\n",
       "    <tr>\n",
       "      <th>75%</th>\n",
       "      <td>200307.000000</td>\n",
       "      <td>61.000000</td>\n",
       "    </tr>\n",
       "    <tr>\n",
       "      <th>max</th>\n",
       "      <td>208926.000000</td>\n",
       "      <td>80.000000</td>\n",
       "    </tr>\n",
       "  </tbody>\n",
       "</table>\n",
       "</div>"
      ],
      "text/plain": [
       "        scheduled_id  property_id\n",
       "count     425.000000   425.000000\n",
       "mean   188094.894118    40.087059\n",
       "std     13820.402675    22.943521\n",
       "min    160130.000000     1.000000\n",
       "25%    176671.000000    21.000000\n",
       "50%    190273.000000    38.000000\n",
       "75%    200307.000000    61.000000\n",
       "max    208926.000000    80.000000"
      ]
     },
     "execution_count": 58,
     "metadata": {},
     "output_type": "execute_result"
    }
   ],
   "source": [
    "# Con el método de decribe entendemos si hay outliers y dónde se concentran los datos\n",
    "visits.describe()"
   ]
  },
  {
   "cell_type": "code",
   "execution_count": 55,
   "id": "57ea63d3-634b-4c77-a6d4-0ee0694796e0",
   "metadata": {},
   "outputs": [
    {
     "name": "stdout",
     "output_type": "stream",
     "text": [
      "Fecha de la primer visita:  2022-01-01T16:00:00-03:00\n",
      "Fecha de la ultima visita:  2022-02-28T21:00:00-03:00\n",
      "Primer fecha de término:  2022-01-01T18:00:00-03:00\n",
      "Última fecha de término  2022-02-28T23:00:00-03:00\n"
     ]
    }
   ],
   "source": [
    "# Hay dos columnas de fechas, hay que entender la primera y la última\n",
    "print(\"Fecha de la primer visita: \",visits.begin_date.min())\n",
    "print(\"Fecha de la ultima visita: \",visits.begin_date.max())\n",
    "\n",
    "print(\"Primer fecha de término: \",visits.end_date.min())\n",
    "print(\"Última fecha de término \", visits.end_date.max())"
   ]
  },
  {
   "cell_type": "markdown",
   "id": "7a463e9b-adcd-4eaf-8d5b-f32ca5ebdd93",
   "metadata": {},
   "source": [
    "<b>Notas</b>\n",
    "<li>Solo existe un tipo de visita</li>\n",
    "<li>Hay 425 visitas de las cuales 286 fueron canceladas y 139 completadas</li>\n",
    "<li>La primer visista fue en 1-Enero y la última el 28 de Febrero de 2022</li>\n",
    "<li>La relación de esta tabla con la de propiedades es de uno a varios, es decir, por una propiedad existen varias visitas."
   ]
  },
  {
   "cell_type": "markdown",
   "id": "1476c514-5cdc-4e63-a8cd-9e748c2dd072",
   "metadata": {},
   "source": [
    "## Preguntas del desafío "
   ]
  },
  {
   "cell_type": "markdown",
   "id": "2b7d5c9f-5389-4944-8826-dbe74c051a41",
   "metadata": {
    "tags": []
   },
   "source": [
    "#### 1. ¿Cuántas visitas se realizaron en total?"
   ]
  },
  {
   "cell_type": "code",
   "execution_count": 100,
   "id": "ff295969-403a-4f8a-87b3-8de252749400",
   "metadata": {},
   "outputs": [
    {
     "name": "stdout",
     "output_type": "stream",
     "text": [
      "Respuesta: \n",
      "Total de visitas:  425\n",
      "Visitas canceladas:  286\n",
      "Visitas realizadas:  139\n"
     ]
    }
   ],
   "source": [
    "# Con realizadas se puede referir a las que fueron completadas, pero daremos una respuesta más completa\n",
    "freq = visits.status.value_counts()\n",
    "\n",
    "# Respuesta\n",
    "print(\"Respuesta: \")\n",
    "print(\"Total de visitas: \", sum(freq))\n",
    "print(\"Visitas canceladas: \", freq.Cancelled)\n",
    "print(\"Visitas realizadas: \", freq.Done)"
   ]
  },
  {
   "cell_type": "markdown",
   "id": "9bc60aa5-b6ec-4ebc-86fa-cfe768b1f5dc",
   "metadata": {
    "tags": []
   },
   "source": [
    "#### 2. ¿Cuál es el promedio de propiedades por propietario?"
   ]
  },
  {
   "cell_type": "markdown",
   "id": "926361d4-c01b-4b18-bb76-98e5d899d84e",
   "metadata": {},
   "source": [
    "Para esta pregunta nos sirvió el análisis de usuarios dónde saber el hecho de que la relación sea de 1 usuario por propiedad no daría una respuesta evidente. Sin embargo hagamos el proceso completo."
   ]
  },
  {
   "cell_type": "code",
   "execution_count": 95,
   "id": "6d3b3bf3-d23e-456e-b29b-9ca0d303268b",
   "metadata": {},
   "outputs": [
    {
     "name": "stdout",
     "output_type": "stream",
     "text": [
      "Promedio de propiedades por propietario:  1.0\n"
     ]
    }
   ],
   "source": [
    "# Contamos el número de propiedades desde la tabla de propiedades:\n",
    "total = properties.property_id.nunique()\n",
    "\n",
    "# Propiedades por usuario:\n",
    "properties_per_user = list(users.property_id.value_counts())\n",
    "\n",
    "# Promedio de propiedades por usuario:\n",
    "print(\"Promedio de propiedades por propietario: \", sum(properties_per_user)/total)"
   ]
  },
  {
   "cell_type": "markdown",
   "id": "36df4a14-23ed-4db1-8b6f-9ee0af8e34a0",
   "metadata": {},
   "source": [
    "##### Respuesta:\n",
    "El promedio de propiedades por cada propietario es de:     __1__"
   ]
  },
  {
   "cell_type": "markdown",
   "id": "9f04bba5-d16e-487f-b882-a975c17d6bfa",
   "metadata": {
    "tags": []
   },
   "source": [
    "#### 3. ¿Cuál era la temperatura promedio de todas las visitas que realizó en la propiedad del propietario con ID 2?"
   ]
  },
  {
   "cell_type": "markdown",
   "id": "024534f8-704b-4f67-8dcf-3a915799ef53",
   "metadata": {},
   "source": [
    "Para responder esta pregunta necesitaremos aprovechar la conexión entre las 3 tablas. Para esto con el usuario del id = 2 podemos filtrar la información de la propiedad que le pertenece a ese usuario (property_id, latitude, longitude). Con esta información posteriormente en la tabla de visitas filtraremos con el id de la propiedad para acceder a las fechas de las visitas. Con las fechas, latitud, longitud y la KEY de nuestra cuenta podremos acceder a la información de temperatures que queremos de la api de https://weather.visualcrossing.com/."
   ]
  },
  {
   "cell_type": "code",
   "execution_count": 250,
   "id": "c0e4b3dd-46b2-4f19-95d2-05cc25d04e33",
   "metadata": {},
   "outputs": [
    {
     "name": "stdout",
     "output_type": "stream",
     "text": [
      "ID de la propiedad del usuario con id = 2:  34\n",
      "latitude 4.6183634\n",
      "longitude -74.0735\n",
      "(7, 6)\n"
     ]
    },
    {
     "data": {
      "text/html": [
       "<div>\n",
       "<style scoped>\n",
       "    .dataframe tbody tr th:only-of-type {\n",
       "        vertical-align: middle;\n",
       "    }\n",
       "\n",
       "    .dataframe tbody tr th {\n",
       "        vertical-align: top;\n",
       "    }\n",
       "\n",
       "    .dataframe thead th {\n",
       "        text-align: right;\n",
       "    }\n",
       "</style>\n",
       "<table border=\"1\" class=\"dataframe\">\n",
       "  <thead>\n",
       "    <tr style=\"text-align: right;\">\n",
       "      <th></th>\n",
       "      <th>scheduled_id</th>\n",
       "      <th>property_id</th>\n",
       "      <th>begin_date</th>\n",
       "      <th>end_date</th>\n",
       "      <th>type_visit</th>\n",
       "      <th>status</th>\n",
       "    </tr>\n",
       "  </thead>\n",
       "  <tbody>\n",
       "    <tr>\n",
       "      <th>177</th>\n",
       "      <td>186033</td>\n",
       "      <td>34</td>\n",
       "      <td>2022-01-29T12:00:00-03:00</td>\n",
       "      <td>2022-01-29T14:00:00-03:00</td>\n",
       "      <td>Visit</td>\n",
       "      <td>Cancelled</td>\n",
       "    </tr>\n",
       "    <tr>\n",
       "      <th>178</th>\n",
       "      <td>187080</td>\n",
       "      <td>34</td>\n",
       "      <td>2022-01-28T11:00:00-03:00</td>\n",
       "      <td>2022-01-29T01:00:00-03:00</td>\n",
       "      <td>Visit</td>\n",
       "      <td>Done</td>\n",
       "    </tr>\n",
       "    <tr>\n",
       "      <th>179</th>\n",
       "      <td>186857</td>\n",
       "      <td>34</td>\n",
       "      <td>2022-01-28T11:30:00-03:00</td>\n",
       "      <td>2022-01-28T14:00:00-03:00</td>\n",
       "      <td>Visit</td>\n",
       "      <td>Done</td>\n",
       "    </tr>\n",
       "    <tr>\n",
       "      <th>180</th>\n",
       "      <td>180698</td>\n",
       "      <td>34</td>\n",
       "      <td>2022-01-22T20:00:00-03:00</td>\n",
       "      <td>2022-01-22T22:00:00-03:00</td>\n",
       "      <td>Visit</td>\n",
       "      <td>Cancelled</td>\n",
       "    </tr>\n",
       "    <tr>\n",
       "      <th>181</th>\n",
       "      <td>177506</td>\n",
       "      <td>34</td>\n",
       "      <td>2022-01-23T13:00:00-03:00</td>\n",
       "      <td>2022-01-23T15:00:00-03:00</td>\n",
       "      <td>Visit</td>\n",
       "      <td>Cancelled</td>\n",
       "    </tr>\n",
       "    <tr>\n",
       "      <th>182</th>\n",
       "      <td>178172</td>\n",
       "      <td>34</td>\n",
       "      <td>2022-01-21T18:00:00-03:00</td>\n",
       "      <td>2022-01-21T20:00:00-03:00</td>\n",
       "      <td>Visit</td>\n",
       "      <td>Cancelled</td>\n",
       "    </tr>\n",
       "    <tr>\n",
       "      <th>183</th>\n",
       "      <td>177505</td>\n",
       "      <td>34</td>\n",
       "      <td>2022-01-23T09:00:00-03:00</td>\n",
       "      <td>2022-01-23T11:00:00-03:00</td>\n",
       "      <td>Visit</td>\n",
       "      <td>Cancelled</td>\n",
       "    </tr>\n",
       "  </tbody>\n",
       "</table>\n",
       "</div>"
      ],
      "text/plain": [
       "     scheduled_id  property_id                 begin_date  \\\n",
       "177        186033           34  2022-01-29T12:00:00-03:00   \n",
       "178        187080           34  2022-01-28T11:00:00-03:00   \n",
       "179        186857           34  2022-01-28T11:30:00-03:00   \n",
       "180        180698           34  2022-01-22T20:00:00-03:00   \n",
       "181        177506           34  2022-01-23T13:00:00-03:00   \n",
       "182        178172           34  2022-01-21T18:00:00-03:00   \n",
       "183        177505           34  2022-01-23T09:00:00-03:00   \n",
       "\n",
       "                      end_date type_visit     status  \n",
       "177  2022-01-29T14:00:00-03:00      Visit  Cancelled  \n",
       "178  2022-01-29T01:00:00-03:00      Visit       Done  \n",
       "179  2022-01-28T14:00:00-03:00      Visit       Done  \n",
       "180  2022-01-22T22:00:00-03:00      Visit  Cancelled  \n",
       "181  2022-01-23T15:00:00-03:00      Visit  Cancelled  \n",
       "182  2022-01-21T20:00:00-03:00      Visit  Cancelled  \n",
       "183  2022-01-23T11:00:00-03:00      Visit  Cancelled  "
      ]
     },
     "execution_count": 250,
     "metadata": {},
     "output_type": "execute_result"
    }
   ],
   "source": [
    "# Localizamos el id de la propiedad del usuario con id = 2\n",
    "property_id_2 = int(users.loc[users[\"user_id\"] == 2].property_id)\n",
    "\n",
    "# Localizamos las visitas en la propiedad con el id que encontramos\n",
    "visits_id_2 = visits.loc[visits[\"property_id\"] == property_id_2]\n",
    "\n",
    "# Extraemos la latitud y la longitud de la propiedad para posteriormente conectarnos con la api\n",
    "latitude = float(properties.loc[properties[\"property_id\"] == property_id_2].latitude)\n",
    "longitude = float(properties.loc[properties[\"property_id\"] == property_id_2].longitude)\n",
    "\n",
    "print(\"ID de la propiedad del usuario con id = 2: \", property_id_2)\n",
    "print(\"latitude\", latitude)\n",
    "print(\"longitude\", longitude)\n",
    "\n",
    "# Revisamos el total de visitas\n",
    "print(visits_id_2.shape)\n",
    "\n",
    "visits_id_2.head(10)"
   ]
  },
  {
   "cell_type": "markdown",
   "id": "4ab682a0-7a76-49e1-8e7e-ee3b5bece88d",
   "metadata": {},
   "source": [
    "Ahora que tenemos la información necesaria, vamos a crear una función que nos permita extraer las temperaturas de la api en un rango específico de fechas y probarla con la primer visita."
   ]
  },
  {
   "cell_type": "code",
   "execution_count": 245,
   "id": "fa592e8a-2471-465b-9658-1ba4c9303303",
   "metadata": {},
   "outputs": [
    {
     "name": "stdout",
     "output_type": "stream",
     "text": [
      "Temperaturas en el primer rango de dias:  [58.3, 56.1]\n",
      "Temperatura promedio:  57.2\n"
     ]
    }
   ],
   "source": [
    "def get_temperatures(latitude:str, longitude:str, api_key:str, start_date:str, end_date:str) -> list:\n",
    "    \"\"\"\n",
    "        Return a list of temperatures corresponding to the latitude and location in a specific range of dates.\n",
    "        \n",
    "        params:\n",
    "            latitude:   latitude coordinate.\n",
    "            longitude:  longitude coordinate.\n",
    "            api_key:    key extracted from //vissualcrossing.com// account .\n",
    "            start_date: begin date from range of dates to get temperatures with format 'YYYY-MM-DD'\n",
    "            end_date:   end date from range of dates to get temperatures 'YYYY-MM-DD'.\n",
    "        return:\n",
    "            temperatures: temperatures of the days in the range selected\n",
    "    \"\"\"\n",
    "    \n",
    "    # Get request from the API: https://www.visualcrossing.com/weather-api\n",
    "    response = requests.get(f\"https://weather.visualcrossing.com/VisualCrossingWebServices/rest/services/timeline/{latitude},{longitude}/{start_date}/{end_date}?key={api_key}&include=days\")\n",
    "    \n",
    "    # Temperaures for every day in range selected\n",
    "    temperatures = [days[\"temp\"] for days in response.json()[\"days\"]]\n",
    "    \n",
    "    return temperatures\n",
    "\n",
    "# Extraer las fechas de la primer visita\n",
    "begin_date = visits_id_2.iloc[1,:].begin_date.split('T')[0]\n",
    "end_date = visits_id_2.iloc[1,:].end_date.split('T')[0]\n",
    "\n",
    "# API_KEY de la cuenta de visualcrossing\n",
    "API_KEY = \"KFLMT278G4E5LGCP6WEWFTXNY\"\n",
    "\n",
    "# Get temperatures for fist visit\n",
    "temperatures = get_temperatures(latitude=latitude,\n",
    "                               longitude=longitude,\n",
    "                               api_key=API_KEY,\n",
    "                               start_date=begin_date,\n",
    "                               end_date=end_date)\n",
    "    \n",
    "# Get the mean of the temperatures    \n",
    "mean_temperature =  np.mean(temperatures)\n",
    "\n",
    "print(\"Temperaturas en el primer rango de dias: \", temperatures)\n",
    "print(\"Temperatura promedio: \", mean_temperature)"
   ]
  },
  {
   "cell_type": "markdown",
   "id": "68c79058-f6dd-4a3f-8e52-890ab7c95e33",
   "metadata": {},
   "source": [
    "<li>Hemos visto que la api de retorna las temperaturas del rango de días, por lo que fue necesario obtener su promedio.</li>\n",
    "<li>Para responder la pregunta vamos a aprovechar la función que creamos y correrla en todo el rango de fechas de las visitas a la propiedad.</li>"
   ]
  },
  {
   "cell_type": "code",
   "execution_count": 251,
   "id": "7c90264c-a120-4dde-886c-866219006267",
   "metadata": {},
   "outputs": [
    {
     "name": "stdout",
     "output_type": "stream",
     "text": [
      "Temperaturas promedio para cada rango de fechas:  [56.1, 57.2, 58.3, 58.1, 59.3, 57.7, 59.3]\n"
     ]
    }
   ],
   "source": [
    "# Temperatura promedio para cada dia:\n",
    "temperatures_avg = []\n",
    "\n",
    "for dates in zip(visits_id_2.begin_date, visits_id_2.end_date):\n",
    "    \n",
    "    # Extraer las fechas de todas las visitas\n",
    "    begin_date = dates[0].split('T')[0]\n",
    "    end_date = dates[1].split('T')[0]\n",
    "    \n",
    "    # Get temperatures for every visit\n",
    "    temperatures_avg.append(np.mean((get_temperatures(latitude=latitude, longitude=longitude, api_key=API_KEY, start_date=begin_date, end_date=end_date))))\n",
    "                        \n",
    "print(\"Temperaturas promedio para cada rango de fechas: \", temperatures_avg)                        "
   ]
  },
  {
   "cell_type": "markdown",
   "id": "91ba5268-d1a6-4ec6-b25e-c28c3dc23638",
   "metadata": {},
   "source": [
    "Con las temperaturas de todas las visitas ahora si podemos acceder al resultado promediandolas"
   ]
  },
  {
   "cell_type": "code",
   "execution_count": 256,
   "id": "e09d3d8f-65fe-4395-995f-c03deeed99fd",
   "metadata": {},
   "outputs": [
    {
     "name": "stdout",
     "output_type": "stream",
     "text": [
      "Promedio de temperaturas:  57.2\n"
     ]
    }
   ],
   "source": [
    "# Promedio de temperaturas\n",
    "temperatures_average = np.mean(temperatures)\n",
    "\n",
    "print(\"Promedio de temperaturas: \", temperatures_average)"
   ]
  },
  {
   "cell_type": "markdown",
   "id": "f73b97f4-11de-486e-b84f-167653586c9e",
   "metadata": {},
   "source": [
    "##### Respuesta:\n",
    "La temperatura promedio de los días en que se realizaron las visitas en la propiedad del usuario con id = 2 es:     __57.2__"
   ]
  },
  {
   "cell_type": "markdown",
   "id": "e415a5fe-6230-425f-9023-fcca7a320f20",
   "metadata": {
    "tags": []
   },
   "source": [
    "#### 4. ¿Cuál es la temperatura promedio de las visitas para los días con lluvia?"
   ]
  },
  {
   "cell_type": "markdown",
   "id": "96d58084-d924-4f1b-aeb3-a27dda2e2243",
   "metadata": {},
   "source": [
    "Buscaremos un campo en la respuesta de la api que nos permita definir si llovió en el día especificado"
   ]
  },
  {
   "cell_type": "code",
   "execution_count": 287,
   "id": "a1791c5e-8683-407b-92c7-90332a73da04",
   "metadata": {},
   "outputs": [
    {
     "data": {
      "text/plain": [
       "{'datetime': '2022-01-29',\n",
       " 'datetimeEpoch': 1643432400,\n",
       " 'tempmax': 68.6,\n",
       " 'tempmin': 42.8,\n",
       " 'temp': 56.1,\n",
       " 'feelslikemax': 68.6,\n",
       " 'feelslikemin': 42.8,\n",
       " 'feelslike': 56.0,\n",
       " 'dew': 46.6,\n",
       " 'humidity': 73.9,\n",
       " 'precip': 0.01,\n",
       " 'precipprob': 100.0,\n",
       " 'precipcover': 4.17,\n",
       " 'preciptype': ['rain'],\n",
       " 'snow': 0.0,\n",
       " 'snowdepth': 0.0,\n",
       " 'windgust': 9.4,\n",
       " 'windspeed': 15.8,\n",
       " 'winddir': 260.2,\n",
       " 'pressure': 1025.0,\n",
       " 'cloudcover': 49.2,\n",
       " 'visibility': 7.2,\n",
       " 'solarradiation': 318.2,\n",
       " 'solarenergy': 27.8,\n",
       " 'uvindex': 10.0,\n",
       " 'severerisk': 10.0,\n",
       " 'sunrise': '06:11:56',\n",
       " 'sunriseEpoch': 1643454716,\n",
       " 'sunset': '18:07:04',\n",
       " 'sunsetEpoch': 1643497624,\n",
       " 'moonphase': 0.95,\n",
       " 'conditions': 'Rain, Partially cloudy',\n",
       " 'description': 'Partly cloudy throughout the day with late afternoon rain.',\n",
       " 'icon': 'rain',\n",
       " 'stations': ['80222099999', '80222399999', 'SKBO', '80234099999', 'SKVV'],\n",
       " 'source': 'obs'}"
      ]
     },
     "execution_count": 287,
     "metadata": {},
     "output_type": "execute_result"
    }
   ],
   "source": [
    "# Ejemplo de las condicionts de la respuesta para el primer día de las visitas de la pregunta pasada\n",
    "begin_date = visits_id_2.iloc[0, :].begin_date.split('T')[0]\n",
    "end_date = visits_id_2.iloc[0, :].end_date.split('T')[0]\n",
    "\n",
    "# Get request from the API: https://www.visualcrossing.com/weather-api\n",
    "response = requests.get(f\"https://weather.visualcrossing.com/VisualCrossingWebServices/rest/services/timeline/{latitude},{longitude}/{begin_date}/{end_date}?key={API_KEY}&include=days\")\n",
    "date_json = response.json()\n",
    "date_json[\"days\"][0]"
   ]
  },
  {
   "cell_type": "markdown",
   "id": "a9bf8856-03a7-4a00-ad36-22119974233f",
   "metadata": {},
   "source": [
    "En la respuesta de la api de vissuacrossing existe un campo que se llama \"conditions\". A partir de este campo podemos de terminar si ese día llovió buscando que incluya la palabra \"Rain\"."
   ]
  },
  {
   "cell_type": "markdown",
   "id": "99aed7a1-1f67-41e3-a753-54c4e0638883",
   "metadata": {},
   "source": [
    "Para poder hacer la búsqueda en la API por cada visita necesitaremos los datos de latitude y longitude de la propiedad visitada, por lo que haremos un merge entre ambas tablas basándonos en el id de la propiedad."
   ]
  },
  {
   "cell_type": "code",
   "execution_count": 3,
   "id": "bbeacd4b-b8ff-4469-99d8-840013e5e6a3",
   "metadata": {},
   "outputs": [
    {
     "name": "stdout",
     "output_type": "stream",
     "text": [
      "(425, 20)\n"
     ]
    },
    {
     "data": {
      "text/html": [
       "<div>\n",
       "<style scoped>\n",
       "    .dataframe tbody tr th:only-of-type {\n",
       "        vertical-align: middle;\n",
       "    }\n",
       "\n",
       "    .dataframe tbody tr th {\n",
       "        vertical-align: top;\n",
       "    }\n",
       "\n",
       "    .dataframe thead th {\n",
       "        text-align: right;\n",
       "    }\n",
       "</style>\n",
       "<table border=\"1\" class=\"dataframe\">\n",
       "  <thead>\n",
       "    <tr style=\"text-align: right;\">\n",
       "      <th></th>\n",
       "      <th>scheduled_id</th>\n",
       "      <th>property_id</th>\n",
       "      <th>begin_date</th>\n",
       "      <th>end_date</th>\n",
       "      <th>type_visit</th>\n",
       "      <th>status</th>\n",
       "      <th>type_house</th>\n",
       "      <th>business_type</th>\n",
       "      <th>bedrooms</th>\n",
       "      <th>bathrooms</th>\n",
       "      <th>parking_lots</th>\n",
       "      <th>services</th>\n",
       "      <th>balcony</th>\n",
       "      <th>pool</th>\n",
       "      <th>latitude</th>\n",
       "      <th>longitude</th>\n",
       "      <th>localidad</th>\n",
       "      <th>city</th>\n",
       "      <th>region</th>\n",
       "      <th>country</th>\n",
       "    </tr>\n",
       "  </thead>\n",
       "  <tbody>\n",
       "    <tr>\n",
       "      <th>0</th>\n",
       "      <td>169548</td>\n",
       "      <td>1</td>\n",
       "      <td>2022-01-13T10:00:00-03:00</td>\n",
       "      <td>2022-01-13T12:00:00-03:00</td>\n",
       "      <td>Visit</td>\n",
       "      <td>Cancelled</td>\n",
       "      <td>departamento</td>\n",
       "      <td>Rental</td>\n",
       "      <td>1</td>\n",
       "      <td>1</td>\n",
       "      <td>1</td>\n",
       "      <td>3.0</td>\n",
       "      <td>0</td>\n",
       "      <td>False</td>\n",
       "      <td>4.870956</td>\n",
       "      <td>-74.05804</td>\n",
       "      <td>Chí­A</td>\n",
       "      <td>Cundinamarca</td>\n",
       "      <td>Región De Cundinamarca</td>\n",
       "      <td>Colombia</td>\n",
       "    </tr>\n",
       "    <tr>\n",
       "      <th>1</th>\n",
       "      <td>184763</td>\n",
       "      <td>1</td>\n",
       "      <td>2022-01-26T18:00:00-03:00</td>\n",
       "      <td>2022-01-26T20:00:00-03:00</td>\n",
       "      <td>Visit</td>\n",
       "      <td>Cancelled</td>\n",
       "      <td>departamento</td>\n",
       "      <td>Rental</td>\n",
       "      <td>1</td>\n",
       "      <td>1</td>\n",
       "      <td>1</td>\n",
       "      <td>3.0</td>\n",
       "      <td>0</td>\n",
       "      <td>False</td>\n",
       "      <td>4.870956</td>\n",
       "      <td>-74.05804</td>\n",
       "      <td>Chí­A</td>\n",
       "      <td>Cundinamarca</td>\n",
       "      <td>Región De Cundinamarca</td>\n",
       "      <td>Colombia</td>\n",
       "    </tr>\n",
       "    <tr>\n",
       "      <th>2</th>\n",
       "      <td>186092</td>\n",
       "      <td>1</td>\n",
       "      <td>2022-01-28T12:00:00-03:00</td>\n",
       "      <td>2022-01-28T14:00:00-03:00</td>\n",
       "      <td>Visit</td>\n",
       "      <td>Cancelled</td>\n",
       "      <td>departamento</td>\n",
       "      <td>Rental</td>\n",
       "      <td>1</td>\n",
       "      <td>1</td>\n",
       "      <td>1</td>\n",
       "      <td>3.0</td>\n",
       "      <td>0</td>\n",
       "      <td>False</td>\n",
       "      <td>4.870956</td>\n",
       "      <td>-74.05804</td>\n",
       "      <td>Chí­A</td>\n",
       "      <td>Cundinamarca</td>\n",
       "      <td>Región De Cundinamarca</td>\n",
       "      <td>Colombia</td>\n",
       "    </tr>\n",
       "    <tr>\n",
       "      <th>3</th>\n",
       "      <td>182497</td>\n",
       "      <td>1</td>\n",
       "      <td>2022-01-23T11:00:00-03:00</td>\n",
       "      <td>2022-01-23T13:00:00-03:00</td>\n",
       "      <td>Visit</td>\n",
       "      <td>Cancelled</td>\n",
       "      <td>departamento</td>\n",
       "      <td>Rental</td>\n",
       "      <td>1</td>\n",
       "      <td>1</td>\n",
       "      <td>1</td>\n",
       "      <td>3.0</td>\n",
       "      <td>0</td>\n",
       "      <td>False</td>\n",
       "      <td>4.870956</td>\n",
       "      <td>-74.05804</td>\n",
       "      <td>Chí­A</td>\n",
       "      <td>Cundinamarca</td>\n",
       "      <td>Región De Cundinamarca</td>\n",
       "      <td>Colombia</td>\n",
       "    </tr>\n",
       "    <tr>\n",
       "      <th>4</th>\n",
       "      <td>182396</td>\n",
       "      <td>1</td>\n",
       "      <td>2022-01-23T10:00:00-03:00</td>\n",
       "      <td>2022-01-23T12:00:00-03:00</td>\n",
       "      <td>Visit</td>\n",
       "      <td>Cancelled</td>\n",
       "      <td>departamento</td>\n",
       "      <td>Rental</td>\n",
       "      <td>1</td>\n",
       "      <td>1</td>\n",
       "      <td>1</td>\n",
       "      <td>3.0</td>\n",
       "      <td>0</td>\n",
       "      <td>False</td>\n",
       "      <td>4.870956</td>\n",
       "      <td>-74.05804</td>\n",
       "      <td>Chí­A</td>\n",
       "      <td>Cundinamarca</td>\n",
       "      <td>Región De Cundinamarca</td>\n",
       "      <td>Colombia</td>\n",
       "    </tr>\n",
       "  </tbody>\n",
       "</table>\n",
       "</div>"
      ],
      "text/plain": [
       "   scheduled_id  property_id                 begin_date  \\\n",
       "0        169548            1  2022-01-13T10:00:00-03:00   \n",
       "1        184763            1  2022-01-26T18:00:00-03:00   \n",
       "2        186092            1  2022-01-28T12:00:00-03:00   \n",
       "3        182497            1  2022-01-23T11:00:00-03:00   \n",
       "4        182396            1  2022-01-23T10:00:00-03:00   \n",
       "\n",
       "                    end_date type_visit     status    type_house  \\\n",
       "0  2022-01-13T12:00:00-03:00      Visit  Cancelled  departamento   \n",
       "1  2022-01-26T20:00:00-03:00      Visit  Cancelled  departamento   \n",
       "2  2022-01-28T14:00:00-03:00      Visit  Cancelled  departamento   \n",
       "3  2022-01-23T13:00:00-03:00      Visit  Cancelled  departamento   \n",
       "4  2022-01-23T12:00:00-03:00      Visit  Cancelled  departamento   \n",
       "\n",
       "  business_type  bedrooms  bathrooms  parking_lots  services  balcony   pool  \\\n",
       "0        Rental         1          1             1       3.0        0  False   \n",
       "1        Rental         1          1             1       3.0        0  False   \n",
       "2        Rental         1          1             1       3.0        0  False   \n",
       "3        Rental         1          1             1       3.0        0  False   \n",
       "4        Rental         1          1             1       3.0        0  False   \n",
       "\n",
       "   latitude  longitude localidad          city                  region  \\\n",
       "0  4.870956  -74.05804     Chí­A  Cundinamarca  Región De Cundinamarca   \n",
       "1  4.870956  -74.05804     Chí­A  Cundinamarca  Región De Cundinamarca   \n",
       "2  4.870956  -74.05804     Chí­A  Cundinamarca  Región De Cundinamarca   \n",
       "3  4.870956  -74.05804     Chí­A  Cundinamarca  Región De Cundinamarca   \n",
       "4  4.870956  -74.05804     Chí­A  Cundinamarca  Región De Cundinamarca   \n",
       "\n",
       "    country  \n",
       "0  Colombia  \n",
       "1  Colombia  \n",
       "2  Colombia  \n",
       "3  Colombia  \n",
       "4  Colombia  "
      ]
     },
     "execution_count": 3,
     "metadata": {},
     "output_type": "execute_result"
    }
   ],
   "source": [
    "# hacemos un merge entre las propiedades y las visitas\n",
    "visits_properties_df = pd.merge(left=visits, \n",
    "                                 right=properties, \n",
    "                                 how='inner', \n",
    "                                 on=['property_id', 'property_id'])\n",
    "\n",
    "print(visits_properties_df.shape)\n",
    "visits_properties_df.head()"
   ]
  },
  {
   "cell_type": "markdown",
   "id": "68813f5a-0d67-4ff2-9ba9-1de9ed1c77f9",
   "metadata": {},
   "source": [
    "Crearemos una función que nos permita conectarnos a la api, y nos devuelva toda la información que podamos necesitar, desde la respuesta de la api hasta las temperaturas de cada visita."
   ]
  },
  {
   "cell_type": "code",
   "execution_count": 49,
   "id": "8a6018de-d2f2-4d48-9c00-46161d5581e3",
   "metadata": {},
   "outputs": [],
   "source": [
    "def get_avg_temperature_of_rainy_days(latitude:str, longitude:str, api_key:str, start_date:str, end_date:str, scheduled_id:int) -> str:\n",
    "    \"\"\"\n",
    "        Return the average temperature of the day if it was a rainy day.\n",
    "        \n",
    "        params:\n",
    "            latitude:     latitude coordinate.\n",
    "            longitude:    longitude coordinate.\n",
    "            api_key:      key extracted from //vissualcrossing.com// account .\n",
    "            start_date:   begin date from range of dates to get temperatures with format 'YYYY-MM-DD'\n",
    "            end_date:     end date from range of dates to get temperatures 'YYYY-MM-DD'.\n",
    "            scheduled_id: id of scheduled visit from visits data.\n",
    "        return:\n",
    "            temperature_avg: temperature of the day if it was rainy.\n",
    "    \"\"\"\n",
    "    \n",
    "    returned_values = {}\n",
    "    temperatures = []\n",
    "    response = requests.get(f\"https://weather.visualcrossing.com/VisualCrossingWebServices/rest/services/timeline/{latitude},{longitude}/{start_date}/{end_date}?key={api_key}&include=days\")\n",
    "    \n",
    "    if response.status_code == 200:\n",
    "        \n",
    "        # Guardar temperaturas de los días en los que llovió\n",
    "        for day in response.json()[\"days\"]:\n",
    "            if \"Rain\" in day[\"conditions\"]:\n",
    "                temperatures.append(day[\"temp\"])\n",
    "        \n",
    "        # Obtener el promedio de los valores\n",
    "        returned_values[\"scheduled\"] = scheduled_id \n",
    "        returned_values[\"temperatures\"] = temperatures        \n",
    "        returned_values[\"temperature_avg\"] = np.mean(temperatures)        \n",
    "        \n",
    "    # En caso de devolver un error, guardar el id de la visita y el estatus del error            \n",
    "    else:\n",
    "        print(scheduled_id, \" \", response.status_code)\n",
    "        returned_values[\"temperature_avg\"] = None\n",
    "        returned_values[\"scheduled_id\"] = scheduled_id\n",
    "        returned_values[\"status_code\"] = response.status_code\n",
    "    \n",
    "    return returned_values, response\n",
    "    "
   ]
  },
  {
   "cell_type": "code",
   "execution_count": 98,
   "id": "67f6b46d-0159-4140-9514-384ba91bf540",
   "metadata": {},
   "outputs": [
    {
     "data": {
      "text/plain": [
       "{'scheduled': 169548, 'temperatures': [55.1], 'temperature_avg': 55.1}"
      ]
     },
     "execution_count": 98,
     "metadata": {},
     "output_type": "execute_result"
    }
   ],
   "source": [
    "# Ejemplo de las condicionts de la respuesta para el primer día de las visitas de la pregunta pasada\n",
    "API_KEY = \"3NHKCVGUTYRMZJDJLE76WV5U6\"\n",
    "\n",
    "# Extraemos la información de la visita\n",
    "begin_date = visits_properties_df.loc[visits_properties_df[\"scheduled_id\"] == 169548].begin_date.values[0].split('T')[0]\n",
    "end_date = visits_properties_df.loc[visits_properties_df[\"scheduled_id\"] == 169548].end_date.values[0].split('T')[0]\n",
    "longitude = str(visits_properties_df.loc[visits_properties_df[\"scheduled_id\"] == 169548].longitude.values[0])\n",
    "latitude = str(visits_properties_df.loc[visits_properties_df[\"scheduled_id\"] == 169548].latitude.values[0])\n",
    "\n",
    "t_avg, response = get_avg_temperature_of_rainy_days(latitude, longitude, API_KEY, begin_date, end_date, scheduled_id=169548)\n",
    "t_avg"
   ]
  },
  {
   "cell_type": "code",
   "execution_count": 22,
   "id": "2f024f9f-892d-4a98-9497-e31bc9b69893",
   "metadata": {},
   "outputs": [],
   "source": [
    "# API_KEY de la cuenta de visualcrossing\n",
    "API_KEY = \"3NHKCVGUTYRMZJDJLE76WV5U6\"\n",
    "\n",
    "# Haremos el request para cada visita y lo guardamos en una lista\n",
    "temperatures = []\n",
    "\n",
    "for i in range(0 , len(visits_properties_df)):\n",
    "    start_date = visits_properties_df.iloc[i].begin_date.split('T')[0]\n",
    "    end_date = visits_properties_df.iloc[i].end_date.split('T')[0]\n",
    "    longitude = visits_properties_df.iloc[i].longitude\n",
    "    latitude = visits_properties_df.iloc[i].latitude\n",
    "    visit_id = visits_properties_df.iloc[i].scheduled_id\n",
    "    \n",
    "    # Llamamos la función de la API que ya entrega el promedio si llovió en esos días\n",
    "    temperatures.append(get_avg_temperature_of_rainy_days(latitude=latitude, longitude=longitude, api_key=API_KEY, start_date=start_date, end_date=end_date, scheduled_id=visit_id))\n",
    "    "
   ]
  },
  {
   "cell_type": "code",
   "execution_count": 59,
   "id": "64b5fa84-8087-4919-9d2d-45b25e836e1f",
   "metadata": {},
   "outputs": [
    {
     "name": "stdout",
     "output_type": "stream",
     "text": [
      "Total de dias lluviosos:  403\n"
     ]
    }
   ],
   "source": [
    "# Transformamos los datos de temperatures en dataframe para realizar operaciones con facilidad\n",
    "df_temperatures = pd.DataFrame(temperatures)\n",
    "rainy_days = len(df) - df['temperature_avg'].isnull().sum()\n",
    "\n",
    "print('Total de dias lluviosos: ', rainy_days)"
   ]
  },
  {
   "cell_type": "code",
   "execution_count": 74,
   "id": "b248b4e9-8199-4a40-9100-ddce604fc902",
   "metadata": {},
   "outputs": [
    {
     "name": "stdout",
     "output_type": "stream",
     "text": [
      "Temperatura promedio:  57.34590570719603\n"
     ]
    }
   ],
   "source": [
    "# Eliminamos los valores nulos y sacamos el promedio\n",
    "df_temperatures_notnull = df_temperatures.dropna(subset='temperature_avg')\n",
    "avg = np.mean(df_temperatures_notnull.temperature_avg)\n",
    "print(\"Temperatura promedio: \", avg)"
   ]
  },
  {
   "cell_type": "markdown",
   "id": "0efd403d-114e-4774-afbe-275bc819edb0",
   "metadata": {},
   "source": [
    "##### Respuesta:\n",
    "La temperatura promedio de los días de visita en los que llovio es de:     __57.3__"
   ]
  },
  {
   "cell_type": "markdown",
   "id": "9a949f1d-523c-43e5-ba70-78c70e07216f",
   "metadata": {
    "tags": []
   },
   "source": [
    "#### 5. ¿Cuál es la temperatura promedio para las visitas realizadas en la localidad de Suba?"
   ]
  },
  {
   "cell_type": "markdown",
   "id": "495f6f41-2c32-4bf7-a1e4-b8a3796c6e8b",
   "metadata": {},
   "source": [
    "Para responder esta pregunta vamos a aprovechar la tabla generada en el ejercicio pasado, donde la información de las visitas y de las propiedades ya está unidas."
   ]
  },
  {
   "cell_type": "code",
   "execution_count": 76,
   "id": "d1f6f7e6-54ec-4232-98f5-df11f2e363fa",
   "metadata": {},
   "outputs": [
    {
     "data": {
      "text/html": [
       "<div>\n",
       "<style scoped>\n",
       "    .dataframe tbody tr th:only-of-type {\n",
       "        vertical-align: middle;\n",
       "    }\n",
       "\n",
       "    .dataframe tbody tr th {\n",
       "        vertical-align: top;\n",
       "    }\n",
       "\n",
       "    .dataframe thead th {\n",
       "        text-align: right;\n",
       "    }\n",
       "</style>\n",
       "<table border=\"1\" class=\"dataframe\">\n",
       "  <thead>\n",
       "    <tr style=\"text-align: right;\">\n",
       "      <th></th>\n",
       "      <th>scheduled_id</th>\n",
       "      <th>property_id</th>\n",
       "      <th>begin_date</th>\n",
       "      <th>end_date</th>\n",
       "      <th>type_visit</th>\n",
       "      <th>status</th>\n",
       "      <th>type_house</th>\n",
       "      <th>business_type</th>\n",
       "      <th>bedrooms</th>\n",
       "      <th>bathrooms</th>\n",
       "      <th>parking_lots</th>\n",
       "      <th>services</th>\n",
       "      <th>balcony</th>\n",
       "      <th>pool</th>\n",
       "      <th>latitude</th>\n",
       "      <th>longitude</th>\n",
       "      <th>localidad</th>\n",
       "      <th>city</th>\n",
       "      <th>region</th>\n",
       "      <th>country</th>\n",
       "    </tr>\n",
       "  </thead>\n",
       "  <tbody>\n",
       "    <tr>\n",
       "      <th>0</th>\n",
       "      <td>169548</td>\n",
       "      <td>1</td>\n",
       "      <td>2022-01-13T10:00:00-03:00</td>\n",
       "      <td>2022-01-13T12:00:00-03:00</td>\n",
       "      <td>Visit</td>\n",
       "      <td>Cancelled</td>\n",
       "      <td>departamento</td>\n",
       "      <td>Rental</td>\n",
       "      <td>1</td>\n",
       "      <td>1</td>\n",
       "      <td>1</td>\n",
       "      <td>3.0</td>\n",
       "      <td>0</td>\n",
       "      <td>False</td>\n",
       "      <td>4.870956</td>\n",
       "      <td>-74.05804</td>\n",
       "      <td>Chí­A</td>\n",
       "      <td>Cundinamarca</td>\n",
       "      <td>Región De Cundinamarca</td>\n",
       "      <td>Colombia</td>\n",
       "    </tr>\n",
       "    <tr>\n",
       "      <th>1</th>\n",
       "      <td>184763</td>\n",
       "      <td>1</td>\n",
       "      <td>2022-01-26T18:00:00-03:00</td>\n",
       "      <td>2022-01-26T20:00:00-03:00</td>\n",
       "      <td>Visit</td>\n",
       "      <td>Cancelled</td>\n",
       "      <td>departamento</td>\n",
       "      <td>Rental</td>\n",
       "      <td>1</td>\n",
       "      <td>1</td>\n",
       "      <td>1</td>\n",
       "      <td>3.0</td>\n",
       "      <td>0</td>\n",
       "      <td>False</td>\n",
       "      <td>4.870956</td>\n",
       "      <td>-74.05804</td>\n",
       "      <td>Chí­A</td>\n",
       "      <td>Cundinamarca</td>\n",
       "      <td>Región De Cundinamarca</td>\n",
       "      <td>Colombia</td>\n",
       "    </tr>\n",
       "    <tr>\n",
       "      <th>2</th>\n",
       "      <td>186092</td>\n",
       "      <td>1</td>\n",
       "      <td>2022-01-28T12:00:00-03:00</td>\n",
       "      <td>2022-01-28T14:00:00-03:00</td>\n",
       "      <td>Visit</td>\n",
       "      <td>Cancelled</td>\n",
       "      <td>departamento</td>\n",
       "      <td>Rental</td>\n",
       "      <td>1</td>\n",
       "      <td>1</td>\n",
       "      <td>1</td>\n",
       "      <td>3.0</td>\n",
       "      <td>0</td>\n",
       "      <td>False</td>\n",
       "      <td>4.870956</td>\n",
       "      <td>-74.05804</td>\n",
       "      <td>Chí­A</td>\n",
       "      <td>Cundinamarca</td>\n",
       "      <td>Región De Cundinamarca</td>\n",
       "      <td>Colombia</td>\n",
       "    </tr>\n",
       "    <tr>\n",
       "      <th>3</th>\n",
       "      <td>182497</td>\n",
       "      <td>1</td>\n",
       "      <td>2022-01-23T11:00:00-03:00</td>\n",
       "      <td>2022-01-23T13:00:00-03:00</td>\n",
       "      <td>Visit</td>\n",
       "      <td>Cancelled</td>\n",
       "      <td>departamento</td>\n",
       "      <td>Rental</td>\n",
       "      <td>1</td>\n",
       "      <td>1</td>\n",
       "      <td>1</td>\n",
       "      <td>3.0</td>\n",
       "      <td>0</td>\n",
       "      <td>False</td>\n",
       "      <td>4.870956</td>\n",
       "      <td>-74.05804</td>\n",
       "      <td>Chí­A</td>\n",
       "      <td>Cundinamarca</td>\n",
       "      <td>Región De Cundinamarca</td>\n",
       "      <td>Colombia</td>\n",
       "    </tr>\n",
       "    <tr>\n",
       "      <th>4</th>\n",
       "      <td>182396</td>\n",
       "      <td>1</td>\n",
       "      <td>2022-01-23T10:00:00-03:00</td>\n",
       "      <td>2022-01-23T12:00:00-03:00</td>\n",
       "      <td>Visit</td>\n",
       "      <td>Cancelled</td>\n",
       "      <td>departamento</td>\n",
       "      <td>Rental</td>\n",
       "      <td>1</td>\n",
       "      <td>1</td>\n",
       "      <td>1</td>\n",
       "      <td>3.0</td>\n",
       "      <td>0</td>\n",
       "      <td>False</td>\n",
       "      <td>4.870956</td>\n",
       "      <td>-74.05804</td>\n",
       "      <td>Chí­A</td>\n",
       "      <td>Cundinamarca</td>\n",
       "      <td>Región De Cundinamarca</td>\n",
       "      <td>Colombia</td>\n",
       "    </tr>\n",
       "  </tbody>\n",
       "</table>\n",
       "</div>"
      ],
      "text/plain": [
       "   scheduled_id  property_id                 begin_date  \\\n",
       "0        169548            1  2022-01-13T10:00:00-03:00   \n",
       "1        184763            1  2022-01-26T18:00:00-03:00   \n",
       "2        186092            1  2022-01-28T12:00:00-03:00   \n",
       "3        182497            1  2022-01-23T11:00:00-03:00   \n",
       "4        182396            1  2022-01-23T10:00:00-03:00   \n",
       "\n",
       "                    end_date type_visit     status    type_house  \\\n",
       "0  2022-01-13T12:00:00-03:00      Visit  Cancelled  departamento   \n",
       "1  2022-01-26T20:00:00-03:00      Visit  Cancelled  departamento   \n",
       "2  2022-01-28T14:00:00-03:00      Visit  Cancelled  departamento   \n",
       "3  2022-01-23T13:00:00-03:00      Visit  Cancelled  departamento   \n",
       "4  2022-01-23T12:00:00-03:00      Visit  Cancelled  departamento   \n",
       "\n",
       "  business_type  bedrooms  bathrooms  parking_lots  services  balcony   pool  \\\n",
       "0        Rental         1          1             1       3.0        0  False   \n",
       "1        Rental         1          1             1       3.0        0  False   \n",
       "2        Rental         1          1             1       3.0        0  False   \n",
       "3        Rental         1          1             1       3.0        0  False   \n",
       "4        Rental         1          1             1       3.0        0  False   \n",
       "\n",
       "   latitude  longitude localidad          city                  region  \\\n",
       "0  4.870956  -74.05804     Chí­A  Cundinamarca  Región De Cundinamarca   \n",
       "1  4.870956  -74.05804     Chí­A  Cundinamarca  Región De Cundinamarca   \n",
       "2  4.870956  -74.05804     Chí­A  Cundinamarca  Región De Cundinamarca   \n",
       "3  4.870956  -74.05804     Chí­A  Cundinamarca  Región De Cundinamarca   \n",
       "4  4.870956  -74.05804     Chí­A  Cundinamarca  Región De Cundinamarca   \n",
       "\n",
       "    country  \n",
       "0  Colombia  \n",
       "1  Colombia  \n",
       "2  Colombia  \n",
       "3  Colombia  \n",
       "4  Colombia  "
      ]
     },
     "execution_count": 76,
     "metadata": {},
     "output_type": "execute_result"
    }
   ],
   "source": [
    "visits_properties_df.head()"
   ]
  },
  {
   "cell_type": "code",
   "execution_count": 79,
   "id": "f2ba5bca-4614-418e-8fb9-32a6c6c9c5dd",
   "metadata": {},
   "outputs": [
    {
     "name": "stdout",
     "output_type": "stream",
     "text": [
      "(86, 20)\n"
     ]
    },
    {
     "data": {
      "text/html": [
       "<div>\n",
       "<style scoped>\n",
       "    .dataframe tbody tr th:only-of-type {\n",
       "        vertical-align: middle;\n",
       "    }\n",
       "\n",
       "    .dataframe tbody tr th {\n",
       "        vertical-align: top;\n",
       "    }\n",
       "\n",
       "    .dataframe thead th {\n",
       "        text-align: right;\n",
       "    }\n",
       "</style>\n",
       "<table border=\"1\" class=\"dataframe\">\n",
       "  <thead>\n",
       "    <tr style=\"text-align: right;\">\n",
       "      <th></th>\n",
       "      <th>scheduled_id</th>\n",
       "      <th>property_id</th>\n",
       "      <th>begin_date</th>\n",
       "      <th>end_date</th>\n",
       "      <th>type_visit</th>\n",
       "      <th>status</th>\n",
       "      <th>type_house</th>\n",
       "      <th>business_type</th>\n",
       "      <th>bedrooms</th>\n",
       "      <th>bathrooms</th>\n",
       "      <th>parking_lots</th>\n",
       "      <th>services</th>\n",
       "      <th>balcony</th>\n",
       "      <th>pool</th>\n",
       "      <th>latitude</th>\n",
       "      <th>longitude</th>\n",
       "      <th>localidad</th>\n",
       "      <th>city</th>\n",
       "      <th>region</th>\n",
       "      <th>country</th>\n",
       "    </tr>\n",
       "  </thead>\n",
       "  <tbody>\n",
       "    <tr>\n",
       "      <th>21</th>\n",
       "      <td>164788</td>\n",
       "      <td>4</td>\n",
       "      <td>2022-01-03T10:00:00-03:00</td>\n",
       "      <td>2022-01-03T12:00:00-03:00</td>\n",
       "      <td>Visit</td>\n",
       "      <td>Cancelled</td>\n",
       "      <td>departamento</td>\n",
       "      <td>Rental &amp; Sale</td>\n",
       "      <td>3</td>\n",
       "      <td>2</td>\n",
       "      <td>1</td>\n",
       "      <td>0.0</td>\n",
       "      <td>0</td>\n",
       "      <td>False</td>\n",
       "      <td>4.721716</td>\n",
       "      <td>-74.057976</td>\n",
       "      <td>Suba</td>\n",
       "      <td>Bogotá</td>\n",
       "      <td>Región De Cundinamarca</td>\n",
       "      <td>Colombia</td>\n",
       "    </tr>\n",
       "    <tr>\n",
       "      <th>39</th>\n",
       "      <td>166464</td>\n",
       "      <td>9</td>\n",
       "      <td>2022-01-07T11:00:00-03:00</td>\n",
       "      <td>2022-01-07T13:00:00-03:00</td>\n",
       "      <td>Visit</td>\n",
       "      <td>Cancelled</td>\n",
       "      <td>departamento</td>\n",
       "      <td>Rental</td>\n",
       "      <td>3</td>\n",
       "      <td>1</td>\n",
       "      <td>0</td>\n",
       "      <td>3.0</td>\n",
       "      <td>0</td>\n",
       "      <td>False</td>\n",
       "      <td>4.733718</td>\n",
       "      <td>-74.107970</td>\n",
       "      <td>Suba</td>\n",
       "      <td>Bogotá</td>\n",
       "      <td>Región De Cundinamarca</td>\n",
       "      <td>Colombia</td>\n",
       "    </tr>\n",
       "  </tbody>\n",
       "</table>\n",
       "</div>"
      ],
      "text/plain": [
       "    scheduled_id  property_id                 begin_date  \\\n",
       "21        164788            4  2022-01-03T10:00:00-03:00   \n",
       "39        166464            9  2022-01-07T11:00:00-03:00   \n",
       "\n",
       "                     end_date type_visit     status    type_house  \\\n",
       "21  2022-01-03T12:00:00-03:00      Visit  Cancelled  departamento   \n",
       "39  2022-01-07T13:00:00-03:00      Visit  Cancelled  departamento   \n",
       "\n",
       "    business_type  bedrooms  bathrooms  parking_lots  services  balcony  \\\n",
       "21  Rental & Sale         3          2             1       0.0        0   \n",
       "39         Rental         3          1             0       3.0        0   \n",
       "\n",
       "     pool  latitude  longitude localidad    city                  region  \\\n",
       "21  False  4.721716 -74.057976      Suba  Bogotá  Región De Cundinamarca   \n",
       "39  False  4.733718 -74.107970      Suba  Bogotá  Región De Cundinamarca   \n",
       "\n",
       "     country  \n",
       "21  Colombia  \n",
       "39  Colombia  "
      ]
     },
     "execution_count": 79,
     "metadata": {},
     "output_type": "execute_result"
    }
   ],
   "source": [
    "# Filtraremos la tabla solo para la localidad de Suba\n",
    "suba_data = visits_properties_df.loc[visits_properties_df['localidad'] == 'Suba']\n",
    "print(suba_data.shape)\n",
    "suba_data.head(2)"
   ]
  },
  {
   "cell_type": "code",
   "execution_count": 84,
   "id": "3a506bc3-26f7-4462-918f-93c8dedfd8de",
   "metadata": {},
   "outputs": [
    {
     "name": "stdout",
     "output_type": "stream",
     "text": [
      "Latitudes 14\n",
      "Longitudes 14\n"
     ]
    }
   ],
   "source": [
    "# A pesar de ser la misma localidad buscaremos si hay diferentes coordenadas\n",
    "print('Latitudes', suba_data.latitude.nunique())\n",
    "print('Longitudes', suba_data.longitude.nunique())"
   ]
  },
  {
   "cell_type": "markdown",
   "id": "c39f0952-1cbc-4d91-98c0-7887b4d01e22",
   "metadata": {},
   "source": [
    "A partir de esto sabemos que a la api la alimentaremos con distintos datos por cada visita"
   ]
  },
  {
   "cell_type": "code",
   "execution_count": 86,
   "id": "01f92098-f11a-4ceb-8d60-f65b262bf664",
   "metadata": {},
   "outputs": [],
   "source": [
    "# Haremos el request para cada visita y lo guardamos en una lista\n",
    "temperatures_avg = []\n",
    "API_KEY = \"3NHKCVGUTYRMZJDJLE76WV5U6\"\n",
    "\n",
    "for i in range(0 , len(suba_data)):\n",
    "    start_date = suba_data.iloc[i].begin_date.split('T')[0]\n",
    "    end_date = suba_data.iloc[i].end_date.split('T')[0]\n",
    "    longitude = suba_data.iloc[i].longitude\n",
    "    latitude = suba_data.iloc[i].latitude\n",
    "    \n",
    "    # Reutilizamos la funcion de las temperatures del tercer ejercicio\n",
    "    temperatures_avg.append(np.mean((get_temperatures(latitude=latitude, longitude=longitude, api_key=API_KEY, start_date=start_date, end_date=end_date))))\n"
   ]
  },
  {
   "cell_type": "code",
   "execution_count": 92,
   "id": "6aa0ce3e-6d97-4de9-b100-03000dafe195",
   "metadata": {},
   "outputs": [
    {
     "name": "stdout",
     "output_type": "stream",
     "text": [
      "Temperatura promedio para visitas en Suba:  57.6017441860465\n"
     ]
    }
   ],
   "source": [
    "# Obtenemos el promedio de las temperatures\n",
    "mean_temperature = np.mean(temperatures_avg)\n",
    "print('Temperatura promedio para visitas en Suba: ', mean_temperature)"
   ]
  },
  {
   "cell_type": "markdown",
   "id": "7c1cbcf0-5493-4523-9db0-fbfc7393698c",
   "metadata": {},
   "source": [
    "##### Respuesta:\n",
    "La temperatura promedio para las visitas realizadas en la localidad de Suba es de:     __57.6__"
   ]
  },
  {
   "cell_type": "markdown",
   "id": "9b9386f1-8df9-4232-8bb2-e8399b673ec5",
   "metadata": {},
   "source": [
    "## Conclusiones"
   ]
  },
  {
   "cell_type": "markdown",
   "id": "ba3f28d3-9655-4428-afd6-1db0a578d002",
   "metadata": {},
   "source": [
    "Me pareció un gran ejercicio para trabajar con datos locales y coordinarlos con fuentes de externas, en este caso de la api de las condiciones climatológicas. Con más tiempo se podrían optimizar:\n",
    "<li>Ciertos métodos para extraer datos de la API y no lidiar con el hecho de que las llamadas a esta nos pueden limitar.</li>\n",
    "<li>También se pueden generalizar aún más las funciones para que se puedan responder estás preguntas más con el sólo hecho de introducir ciertos parámetros como localidad, id del propiertario, o de condiciones climatológicas.</li>\n",
    "<li>Analitica para encontrar patrones e insights en la información</li>\n",
    "\n",
    "\tGracias por darme la oportunidad de participar en el proceso. Sería un honor trabajar con el equipo de datos!"
   ]
  }
 ],
 "metadata": {
  "kernelspec": {
   "display_name": "gpu-test",
   "language": "python",
   "name": "gpu-test"
  },
  "language_info": {
   "codemirror_mode": {
    "name": "ipython",
    "version": 3
   },
   "file_extension": ".py",
   "mimetype": "text/x-python",
   "name": "python",
   "nbconvert_exporter": "python",
   "pygments_lexer": "ipython3",
   "version": "3.9.7"
  }
 },
 "nbformat": 4,
 "nbformat_minor": 5
}
